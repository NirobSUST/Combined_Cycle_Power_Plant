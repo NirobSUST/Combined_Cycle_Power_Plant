{
 "cells": [
  {
   "cell_type": "markdown",
   "metadata": {
    "id": "dhJQQxXOGYZD",
    "tags": []
   },
   "source": [
    "Notebook Link:\n",
    "[link text](https://colab.research.google.com/drive/1JJ3iZ15UxIVr9mVDuRaoFfHTYG5DvnaN?usp=sharing)\n",
    "\n"
   ]
  },
  {
   "cell_type": "markdown",
   "metadata": {
    "id": "bBfyRLsTzij3"
   },
   "source": [
    "**Combined cycle power plant:**\n",
    "A combined cycle power plant is an assembly of heat engines that work in tandem from the same source of heat, converting it into mechanical energy. On land, when used to make electricity the most common type is called a combined cycle gas turbine (CCGT) plant. The same principle is also used for marine propulsion, where it is called a combined gas and steam (COGAS) plant. Combining two or more thermodynamic cycles improves overall efficiency, which reduces fuel costs.\n",
    "\n",
    "The principle is that after completing its cycle in the first engine, the working fluid (the exhaust) is still hot enough that a second subsequent heat engine can extract energy from the heat in the exhaust. Usually the heat passes through a heat exchanger so that the two engines can use different working fluids.\n",
    "\n",
    "By generating power from multiple streams of work, the overall efficiency of the system can be increased by 50–60%. That is, from an overall efficiency of say 34% (for a simple cycle), to as much as 64% (for a combined cycle).[1] This is more than 84% of the theoretical efficiency of a Carnot cycle. Heat engines can only use part of the energy from their fuel, so in a non-combined cycle heat engine, the remaining heat (i.e., hot exhaust gas) from combustion is wasted.\n",
    "\n"
   ]
  },
  {
   "cell_type": "code",
   "execution_count": 5,
   "metadata": {
    "tags": [
     "remove_input"
    ]
   },
   "outputs": [
    {
     "name": "stdout",
     "output_type": "stream",
     "text": [
      "Collecting google-cloud-storage\n",
      "  Downloading google_cloud_storage-2.4.0-py2.py3-none-any.whl (106 kB)\n",
      "     -------------------------------------- 107.0/107.0 kB 1.0 MB/s eta 0:00:00\n",
      "Collecting google-resumable-media>=2.3.2\n",
      "  Downloading google_resumable_media-2.3.3-py2.py3-none-any.whl (76 kB)\n",
      "     -------------------------------------- 76.9/76.9 kB 605.6 kB/s eta 0:00:00\n",
      "Collecting google-cloud-core<3.0dev,>=2.3.0\n",
      "  Downloading google_cloud_core-2.3.1-py2.py3-none-any.whl (29 kB)\n",
      "Requirement already satisfied: google-api-core!=2.0.*,!=2.1.*,!=2.2.*,!=2.3.0,<3.0.0dev,>=1.31.5 in c:\\anaconda\\envs\\env_test\\lib\\site-packages (from google-cloud-storage) (2.8.2)\n",
      "Requirement already satisfied: google-auth<3.0dev,>=1.25.0 in c:\\anaconda\\envs\\env_test\\lib\\site-packages (from google-cloud-storage) (2.9.1)\n",
      "Requirement already satisfied: requests<3.0.0dev,>=2.18.0 in c:\\anaconda\\envs\\env_test\\lib\\site-packages (from google-cloud-storage) (2.28.1)\n",
      "Requirement already satisfied: protobuf<5.0.0dev,>=3.15.0 in c:\\anaconda\\envs\\env_test\\lib\\site-packages (from google-api-core!=2.0.*,!=2.1.*,!=2.2.*,!=2.3.0,<3.0.0dev,>=1.31.5->google-cloud-storage) (3.20.1)\n",
      "Requirement already satisfied: googleapis-common-protos<2.0dev,>=1.56.2 in c:\\anaconda\\envs\\env_test\\lib\\site-packages (from google-api-core!=2.0.*,!=2.1.*,!=2.2.*,!=2.3.0,<3.0.0dev,>=1.31.5->google-cloud-storage) (1.56.4)\n",
      "Requirement already satisfied: pyasn1-modules>=0.2.1 in c:\\anaconda\\envs\\env_test\\lib\\site-packages (from google-auth<3.0dev,>=1.25.0->google-cloud-storage) (0.2.8)\n",
      "Requirement already satisfied: six>=1.9.0 in c:\\anaconda\\envs\\env_test\\lib\\site-packages (from google-auth<3.0dev,>=1.25.0->google-cloud-storage) (1.16.0)\n",
      "Requirement already satisfied: cachetools<6.0,>=2.0.0 in c:\\anaconda\\envs\\env_test\\lib\\site-packages (from google-auth<3.0dev,>=1.25.0->google-cloud-storage) (5.2.0)\n",
      "Requirement already satisfied: rsa<5,>=3.1.4 in c:\\anaconda\\envs\\env_test\\lib\\site-packages (from google-auth<3.0dev,>=1.25.0->google-cloud-storage) (4.8)\n",
      "Collecting google-crc32c<2.0dev,>=1.0\n",
      "  Downloading google_crc32c-1.3.0-cp39-cp39-win_amd64.whl (27 kB)\n",
      "Requirement already satisfied: charset-normalizer<3,>=2 in c:\\anaconda\\envs\\env_test\\lib\\site-packages (from requests<3.0.0dev,>=2.18.0->google-cloud-storage) (2.1.0)\n",
      "Requirement already satisfied: certifi>=2017.4.17 in c:\\anaconda\\envs\\env_test\\lib\\site-packages (from requests<3.0.0dev,>=2.18.0->google-cloud-storage) (2022.6.15)\n",
      "Requirement already satisfied: urllib3<1.27,>=1.21.1 in c:\\anaconda\\envs\\env_test\\lib\\site-packages (from requests<3.0.0dev,>=2.18.0->google-cloud-storage) (1.26.10)\n",
      "Requirement already satisfied: idna<4,>=2.5 in c:\\anaconda\\envs\\env_test\\lib\\site-packages (from requests<3.0.0dev,>=2.18.0->google-cloud-storage) (3.3)\n",
      "Requirement already satisfied: pyasn1<0.5.0,>=0.4.6 in c:\\anaconda\\envs\\env_test\\lib\\site-packages (from pyasn1-modules>=0.2.1->google-auth<3.0dev,>=1.25.0->google-cloud-storage) (0.4.8)\n",
      "Installing collected packages: google-crc32c, google-resumable-media, google-cloud-core, google-cloud-storage\n",
      "Successfully installed google-cloud-core-2.3.1 google-cloud-storage-2.4.0 google-crc32c-1.3.0 google-resumable-media-2.3.3\n",
      "Note: you may need to restart the kernel to use updated packages.\n"
     ]
    }
   ],
   "source": [
    "pip install google-cloud-storage"
   ]
  },
  {
   "cell_type": "code",
   "execution_count": null,
   "metadata": {},
   "outputs": [],
   "source": [
    "pip install google-colab"
   ]
  },
  {
   "cell_type": "code",
   "execution_count": 6,
   "metadata": {
    "id": "_zxJOsIOWbws",
    "tags": [
     "remove_cell"
    ]
   },
   "outputs": [
    {
     "ename": "ModuleNotFoundError",
     "evalue": "No module named 'google.colab'",
     "output_type": "error",
     "traceback": [
      "\u001b[1;31m---------------------------------------------------------------------------\u001b[0m",
      "\u001b[1;31mModuleNotFoundError\u001b[0m                       Traceback (most recent call last)",
      "Input \u001b[1;32mIn [6]\u001b[0m, in \u001b[0;36m<cell line: 1>\u001b[1;34m()\u001b[0m\n\u001b[1;32m----> 1\u001b[0m \u001b[38;5;28;01mfrom\u001b[39;00m \u001b[38;5;21;01mgoogle\u001b[39;00m\u001b[38;5;21;01m.\u001b[39;00m\u001b[38;5;21;01mcolab\u001b[39;00m \u001b[38;5;28;01mimport\u001b[39;00m drive\n",
      "\u001b[1;31mModuleNotFoundError\u001b[0m: No module named 'google.colab'"
     ]
    }
   ],
   "source": [
    "from google.colab import drive"
   ]
  },
  {
   "cell_type": "code",
   "execution_count": null,
   "metadata": {
    "colab": {
     "base_uri": "https://localhost:8080/"
    },
    "id": "i3HOPAPhXLU4",
    "outputId": "a0f2ce03-72e1-40c3-dc76-8526d114d6e6",
    "tags": [
     "remove_cell"
    ]
   },
   "outputs": [],
   "source": [
    "drive.mount('/content/drive')"
   ]
  },
  {
   "cell_type": "markdown",
   "metadata": {
    "id": "GslzKdZW1lRw"
   },
   "source": [
    "Drive already mounted at /content/drive; to attempt to forcibly remount, call drive.mount(\"/content/drive\", force_remount=True)."
   ]
  },
  {
   "cell_type": "markdown",
   "metadata": {
    "id": "Z2S7xUui17dy"
   },
   "source": [
    "**Importing necessary liabraries**"
   ]
  },
  {
   "cell_type": "code",
   "execution_count": null,
   "metadata": {
    "id": "wfi3Ly6g2Ap9",
    "tags": [
     "remove_input"
    ]
   },
   "outputs": [],
   "source": [
    "import os\n",
    "import pandas as pd  # First, we'll import Pandas, a data processing and CSV file I/O library\n",
    "import numpy as np\n",
    "from datetime import datetime\n",
    "\n",
    "from sklearn import preprocessing,metrics \n",
    "\n",
    "import matplotlib.pyplot as plt\n",
    "import seaborn as sns\n",
    "%matplotlib inline"
   ]
  },
  {
   "cell_type": "code",
   "execution_count": null,
   "metadata": {},
   "outputs": [],
   "source": [
    "import pandas as pd, numpy as np, matplotlib.pyplot as plt"
   ]
  },
  {
   "cell_type": "markdown",
   "metadata": {
    "id": "0IU35Bog2HCL"
   },
   "source": [
    "**Reading Dataset**"
   ]
  },
  {
   "cell_type": "code",
   "execution_count": null,
   "metadata": {
    "id": "0E6FPGEPYUc-",
    "tags": [
     "remove_input"
    ]
   },
   "outputs": [],
   "source": [
    "data = pd.read_excel('/content/drive/My Drive/CCPP.xlsx')"
   ]
  },
  {
   "cell_type": "code",
   "execution_count": null,
   "metadata": {
    "id": "4Cnvb7E-Yu7v"
   },
   "outputs": [],
   "source": [
    "df = pd.DataFrame(data)"
   ]
  },
  {
   "cell_type": "markdown",
   "metadata": {
    "id": "lfJUU3iA2ahx",
    "tags": [
     "remove_input"
    ]
   },
   "source": [
    "**Renaming Dataset**"
   ]
  },
  {
   "cell_type": "code",
   "execution_count": null,
   "metadata": {
    "id": "DvkEkzGuGLWV"
   },
   "outputs": [],
   "source": [
    "df.rename(columns={'AT': 'Average Temperature', 'V': 'Exhaust Vacuum','AP': 'Ambient Pressure',\n",
    "                   'RH': 'Relative Humidity','PE': 'Net Hourly Electrical Energy Output'}, inplace=True)"
   ]
  },
  {
   "cell_type": "markdown",
   "metadata": {
    "id": "uwjZ1nuL9Blj"
   },
   "source": [
    "***Descriptive Statistical Data Analysis***"
   ]
  },
  {
   "cell_type": "markdown",
   "metadata": {
    "id": "cFSPz4nI6oFB"
   },
   "source": [
    "All the values are numerical and continuous values,so there is not need to transform the data into numerical values as seen below:\n",
    "\n"
   ]
  },
  {
   "cell_type": "code",
   "execution_count": null,
   "metadata": {
    "colab": {
     "base_uri": "https://localhost:8080/"
    },
    "id": "7eq5VvlpY7vA",
    "outputId": "89b33aeb-108d-458a-ed2f-3d01e3b6fca1"
   },
   "outputs": [],
   "source": [
    "df.info()"
   ]
  },
  {
   "cell_type": "markdown",
   "metadata": {
    "id": "m3GsVU7O22PQ"
   },
   "source": [
    "There is no any missing value in the data set as seen below:"
   ]
  },
  {
   "cell_type": "code",
   "execution_count": null,
   "metadata": {
    "colab": {
     "base_uri": "https://localhost:8080/"
    },
    "id": "18yAvCOe21wq",
    "outputId": "85295f16-8b5a-4ad9-d38b-27d582172f77",
    "tags": [
     "remove_input"
    ]
   },
   "outputs": [],
   "source": [
    "df.isnull().sum()"
   ]
  },
  {
   "cell_type": "markdown",
   "metadata": {
    "id": "lu-m5f0_3WKO"
   },
   "source": [
    "As we see there is no null value in our dataset."
   ]
  },
  {
   "cell_type": "markdown",
   "metadata": {
    "id": "LpsrMf8X5DiG"
   },
   "source": [
    "We can see all the statistical information for all features and the target column below:"
   ]
  },
  {
   "cell_type": "code",
   "execution_count": null,
   "metadata": {
    "colab": {
     "base_uri": "https://localhost:8080/",
     "height": 300
    },
    "id": "C_iZmWEjZCj2",
    "outputId": "e4f1eb16-cc47-4255-ec5a-ac5edb0c440d",
    "tags": [
     "remove_input"
    ]
   },
   "outputs": [],
   "source": [
    "df.describe()"
   ]
  },
  {
   "cell_type": "markdown",
   "metadata": {
    "id": "vbhDoXcsaFIu"
   },
   "source": [
    "\n",
    "\n",
    "1.   Ambient Temperature (Average Temperature) in the range 1.81°C and 37.11°C\n",
    "2.   Ambient Pressure (AP) in the range 992.89–1033.30 millibar\n",
    "3.   Relative Humidity (RH) in the range of 25.56% to 100.16% \n",
    "4.   Exhaust Vacuum (V) in the range 25.36–81.56 cm Hg\n",
    "5.   Net hourly electrical energy output (PE) 420.26–495.76 MW \n"
   ]
  },
  {
   "cell_type": "markdown",
   "metadata": {
    "id": "r_xd21xJ5Vpn"
   },
   "source": [
    "**Correlation**"
   ]
  },
  {
   "cell_type": "code",
   "execution_count": null,
   "metadata": {
    "colab": {
     "base_uri": "https://localhost:8080/"
    },
    "id": "mbZQ2O725asT",
    "outputId": "0e71a0b6-0460-493e-a962-570aa46ec0c7",
    "tags": [
     "remove_input"
    ]
   },
   "outputs": [],
   "source": [
    "df.corr()[\"Net Hourly Electrical Energy Output\"].sort_values(ascending=False)"
   ]
  },
  {
   "cell_type": "markdown",
   "metadata": {
    "id": "mX4pcQeO3gKS"
   },
   "source": [
    "As seen above there is strong **positive** correlation between **Net Hourly Electrical Energy Output and Ambient Pressure** while very strong **negative** correlation between **Net Hourly Electrical Energy Output and Average Temperature or Exhaust Vacuum.** Lets visualize this correlation with seaborn heatmap below:"
   ]
  },
  {
   "cell_type": "code",
   "execution_count": null,
   "metadata": {
    "colab": {
     "base_uri": "https://localhost:8080/",
     "height": 531
    },
    "id": "jZoBT7Awazh4",
    "outputId": "9170b338-e46d-4ea6-d5f0-f97549884739",
    "tags": [
     "remove_input"
    ]
   },
   "outputs": [],
   "source": [
    "import seaborn as sns\n",
    "plt.figure(figsize = (7, 5))\n",
    "sns.heatmap(df.corr(), annot = True)"
   ]
  },
  {
   "cell_type": "code",
   "execution_count": null,
   "metadata": {
    "id": "1_ZJ_U-zbi5R",
    "tags": [
     "remove_input"
    ]
   },
   "outputs": [],
   "source": [
    "df_1 = df['Average Temperature']\n",
    "df_2 = df[['Average Temperature', 'Exhaust Vacuum']]\n",
    "df_3 = df[['Average Temperature', 'Exhaust Vacuum', 'Relative Humidity']]\n",
    "df_4 = df[['Average Temperature', 'Exhaust Vacuum', 'Ambient Pressure', 'Relative Humidity']]\n",
    "y = df['Net Hourly Electrical Energy Output']"
   ]
  },
  {
   "cell_type": "code",
   "execution_count": null,
   "metadata": {
    "id": "6bRB1o8CcbKc",
    "tags": [
     "remove_input"
    ]
   },
   "outputs": [],
   "source": [
    "from sklearn.model_selection import train_test_split\n",
    "X_train, X_test, y_train, y_test = train_test_split(df_1, y, test_size = 0.2, random_state = 0)"
   ]
  },
  {
   "cell_type": "code",
   "execution_count": null,
   "metadata": {
    "id": "AEFR6XdxdPba",
    "tags": [
     "remove_input"
    ]
   },
   "outputs": [],
   "source": [
    "from sklearn.linear_model import LinearRegression\n",
    "from sklearn import linear_model\n",
    "regressor = linear_model.LinearRegression()\n",
    "model = regressor.fit(X_train.values.reshape(-1,1), y_train)"
   ]
  },
  {
   "cell_type": "markdown",
   "metadata": {
    "id": "_jKQd3f67-4D"
   },
   "source": [
    "\n",
    "\n",
    "*   From this we can say that **Ambient Pressure** and **Relative Humidity** has some outliers.\n",
    "*   We need to analyze that wheather it is outlier or extreme values.\n",
    "\n"
   ]
  },
  {
   "cell_type": "markdown",
   "metadata": {
    "id": "nhjEsWof9C5e"
   },
   "source": [
    "**Checking for the distribution using violin plot:**"
   ]
  },
  {
   "cell_type": "code",
   "execution_count": null,
   "metadata": {
    "colab": {
     "base_uri": "https://localhost:8080/",
     "height": 1000
    },
    "id": "kZf74F6Bik9e",
    "outputId": "a14dc70c-7a7e-4550-e3be-acfab5f42b61",
    "tags": [
     "remove_input"
    ]
   },
   "outputs": [],
   "source": [
    "for i in range(len(df.columns)):\n",
    "    sns.distplot(df.iloc[:,i])\n",
    "    plt.show()"
   ]
  },
  {
   "cell_type": "markdown",
   "metadata": {
    "id": "Irl-gGjX9Lez"
   },
   "source": [
    "\n",
    "\n",
    "*   Average Temperature - Temperature is more or less normally distributed.\n",
    "*   Ambient Pressure - Pressure is normally distrubuted\n",
    "*   Relative Humidity - Humidity is left skewed.\n",
    "*   Net Hourly Electrical Energy Output - It has 2 peaks with normally distributed plot.\n",
    "\n"
   ]
  },
  {
   "cell_type": "markdown",
   "metadata": {
    "id": "UYlYeoiLBcMV"
   },
   "source": [
    "***Checking linearity:***"
   ]
  },
  {
   "cell_type": "code",
   "execution_count": null,
   "metadata": {
    "colab": {
     "base_uri": "https://localhost:8080/",
     "height": 1000
    },
    "id": "XpV2lDbhBkCD",
    "outputId": "a397ff88-166a-42f8-c1d4-6b6da7c4f3b0",
    "tags": [
     "remove_input"
    ]
   },
   "outputs": [],
   "source": [
    "sns.pairplot(df)\n",
    "print(df.corr(method=\"spearman\"))\n",
    "\n",
    "col=df.columns\n",
    "print(col)"
   ]
  },
  {
   "cell_type": "markdown",
   "metadata": {
    "id": "7_SiXSjTBwCY"
   },
   "source": [
    "\n",
    "\n",
    "*   Relation between **Average Temperature** vs **Exhaust Vacuum** has strong **positive** correlation as 0.8 - says that temperature and vaccum has strong **positive** correlation.\n",
    "\n",
    "*   **Average Temperature** vs **Net Hourly Electrical Energy Output** has strong **negative** correlation as -0.9 - says that temeperature vs electrical output as strong **negative** correlation. In which, ambient temperature increases the energy output is decreses.\n",
    "\n",
    "*   **Exhaust Vacuum** vs **Average Temperature** has strong **positive** correlation as 0.8\n",
    "*   **Exhaust Vacuum** vs **Net Hourly Electrical Energy Output** has strong **negative** correlation as -0.8 - In which, the exhaust vaccum is high then the energy output is very low and the vice versa\n",
    "\n"
   ]
  },
  {
   "cell_type": "markdown",
   "metadata": {
    "id": "lzXcSfn7_Kf8"
   },
   "source": [
    "**Normalizing the data:**"
   ]
  },
  {
   "cell_type": "code",
   "execution_count": null,
   "metadata": {
    "colab": {
     "base_uri": "https://localhost:8080/",
     "height": 1000
    },
    "id": "WbiIDdWCjKm0",
    "outputId": "9d2095cc-6f9b-4f30-e25c-ea88452bb1e2",
    "tags": [
     "remove_input"
    ]
   },
   "outputs": [],
   "source": [
    "from sklearn import preprocessing\n",
    "df_nor=preprocessing.normalize(df)\n",
    "print(df_nor)\n",
    "df_nor=pd.DataFrame(df_nor)\n",
    "print(df_nor)\n",
    "sns.pairplot(df_nor)\n",
    "df_nor.corr()\n",
    "df_nor.columns = df.columns\n",
    "df_nor.head()\n",
    "x=df_nor.iloc[:,0:4]\n",
    "y=df_nor.iloc[:,4]"
   ]
  },
  {
   "cell_type": "markdown",
   "metadata": {
    "id": "hYY_kpNfAeWf"
   },
   "source": [
    "\n",
    "\n",
    "\n",
    "*   After normalizing the data :\n",
    "*   The correlation of **Ambient Pressure** is showing a strong **negative** correlation.\n",
    "\n"
   ]
  },
  {
   "cell_type": "markdown",
   "metadata": {
    "id": "H0oRpLI5HHHz"
   },
   "source": [
    "**Data Visualization:**"
   ]
  },
  {
   "cell_type": "code",
   "execution_count": null,
   "metadata": {
    "id": "VojsgxLCLy7D",
    "tags": [
     "remove_input"
    ]
   },
   "outputs": [],
   "source": [
    "sns.set_style(\"darkgrid\")"
   ]
  },
  {
   "cell_type": "code",
   "execution_count": null,
   "metadata": {
    "colab": {
     "base_uri": "https://localhost:8080/",
     "height": 644
    },
    "id": "6w5ayk-qMD5C",
    "outputId": "a82b2dc5-5997-4552-d993-403055ded2d2",
    "tags": [
     "remove_input"
    ]
   },
   "outputs": [],
   "source": [
    "plt.figure(figsize=(12,10))\n",
    "sns.histplot(data=df,x=\"Net Hourly Electrical Energy Output\",color=\"red\",kde=True)\n",
    "plt.axvline(x=df[\"Net Hourly Electrical Energy Output\"].mean(),ymax=0.55,color=\"green\",linestyle='--',label=\"Mean\")\n",
    "plt.axvline(x=df[\"Net Hourly Electrical Energy Output\"].median(),ymax=0.56,color=\"purple\",linestyle='--',label=\"Median\")\n",
    "plt.legend()\n",
    "plt.title(\"Histogram of the Target Column\")"
   ]
  },
  {
   "cell_type": "markdown",
   "metadata": {
    "id": "T9BTr6ryIsaT"
   },
   "source": [
    "The data visualization of **Net Hourly Electrical Energy Output** using Histogram. The **Green** -- indicates **Mean** and  **Purple** -- indicates **Median**."
   ]
  },
  {
   "cell_type": "code",
   "execution_count": null,
   "metadata": {
    "colab": {
     "base_uri": "https://localhost:8080/",
     "height": 644
    },
    "id": "dXS-e3_JMJRr",
    "outputId": "6b86ae3f-c70e-40fc-db38-9e1936c258ba",
    "tags": [
     "remove_input"
    ]
   },
   "outputs": [],
   "source": [
    "plt.figure(figsize = (12,10))\n",
    "sns.histplot(df[\"Net Hourly Electrical Energy Output\"],kde=True,bins=40,color=\"red\",cumulative=True)\n",
    "plt.title(\"Cumulative of the Target Column\")"
   ]
  },
  {
   "cell_type": "code",
   "execution_count": null,
   "metadata": {
    "colab": {
     "base_uri": "https://localhost:8080/",
     "height": 916
    },
    "id": "ubFi37TwMapI",
    "outputId": "1a4b0d73-c726-4bb7-da28-ad674ed3e1ea",
    "tags": [
     "remove_input"
    ]
   },
   "outputs": [],
   "source": [
    "sns.pairplot(df,\n",
    "                 markers=\"+\",\n",
    "                 kind='reg',\n",
    "                 diag_kind=\"kde\",\n",
    "                 plot_kws={'line_kws':{'color':'#aec6cf'},\n",
    "                           'scatter_kws': {'alpha': 0.5,\n",
    "                                           'color': '#82ad32'}},\n",
    "               \n",
    "                 diag_kws= {'color': '#82ad32'})\n"
   ]
  },
  {
   "cell_type": "markdown",
   "metadata": {
    "id": "QBBQORMAP8K8"
   },
   "source": [
    "**Regration:**"
   ]
  },
  {
   "cell_type": "code",
   "execution_count": null,
   "metadata": {
    "colab": {
     "base_uri": "https://localhost:8080/",
     "height": 628
    },
    "id": "t178DcP4Mtkk",
    "outputId": "9f721e2f-4805-434a-99b0-8e00b46f8036",
    "tags": [
     "remove_input"
    ]
   },
   "outputs": [],
   "source": [
    "plt.figure(figsize = (15,10))\n",
    "sns.regplot(data=df, x=\"Average Temperature\", y=\"Net Hourly Electrical Energy Output\",color=\"red\")"
   ]
  },
  {
   "cell_type": "markdown",
   "metadata": {
    "id": "Ql2eqeihQWzH"
   },
   "source": [
    "The above plot is **Average Temperature** Vs **Net Hourly Electrical Energy Output**. The regration line indicates the strong **Negative** Correlation between them.\n",
    "\n"
   ]
  },
  {
   "cell_type": "code",
   "execution_count": null,
   "metadata": {
    "colab": {
     "base_uri": "https://localhost:8080/",
     "height": 628
    },
    "id": "cTFX1wH_M3pO",
    "outputId": "a42b2b34-0752-42ae-e562-dfb24e90226e",
    "tags": [
     "remove_input"
    ]
   },
   "outputs": [],
   "source": [
    "plt.figure(figsize = (15,10))\n",
    "sns.regplot(data=df, x=\"Exhaust Vacuum\", y=\"Net Hourly Electrical Energy Output\",color=\"green\")"
   ]
  },
  {
   "cell_type": "markdown",
   "metadata": {
    "id": "pxFUkk76R27X"
   },
   "source": [
    "The above plot is **Exhaust Vacuum** Vs **Net Hourly Electrical Energy Output** . The regration line indicates the strong **Negative** Correlation between them.\n",
    "\n"
   ]
  },
  {
   "cell_type": "code",
   "execution_count": null,
   "metadata": {
    "colab": {
     "base_uri": "https://localhost:8080/",
     "height": 628
    },
    "id": "a91ZWznqM70v",
    "outputId": "8e2b1635-1e88-431f-d500-e136f84f9859",
    "tags": [
     "remove_input"
    ]
   },
   "outputs": [],
   "source": [
    "plt.figure(figsize = (15,10))\n",
    "sns.regplot(data=df, x=\"Ambient Pressure\", y=\"Net Hourly Electrical Energy Output\",color=\"purple\")"
   ]
  },
  {
   "cell_type": "markdown",
   "metadata": {
    "id": "hAYQOq0XSMOH"
   },
   "source": [
    "The above plot is **Ambient Pressure** Vs **Net Hourly Electrical Energy Output**. The regration line indicates the strong **Positive** Correlation between them.\n",
    "\n"
   ]
  }
 ],
 "metadata": {
  "celltoolbar": "Edit Metadata",
  "colab": {
   "collapsed_sections": [],
   "name": "CCPP.ipynb",
   "provenance": [],
   "toc_visible": true
  },
  "kernelspec": {
   "display_name": "Python 3 (ipykernel)",
   "language": "python",
   "name": "python3"
  },
  "language_info": {
   "codemirror_mode": {
    "name": "ipython",
    "version": 3
   },
   "file_extension": ".py",
   "mimetype": "text/x-python",
   "name": "python",
   "nbconvert_exporter": "python",
   "pygments_lexer": "ipython3",
   "version": "3.9.12"
  }
 },
 "nbformat": 4,
 "nbformat_minor": 4
}
